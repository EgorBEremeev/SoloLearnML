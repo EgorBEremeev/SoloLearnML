{
  "nbformat": 4,
  "nbformat_minor": 0,
  "metadata": {
    "kernelspec": {
      "display_name": "Python 3",
      "language": "python",
      "name": "python3"
    },
    "language_info": {
      "codemirror_mode": {
        "name": "ipython",
        "version": 3
      },
      "file_extension": ".py",
      "mimetype": "text/x-python",
      "name": "python",
      "nbconvert_exporter": "python",
      "pygments_lexer": "ipython3",
      "version": "3.7.3"
    },
    "colab": {
      "name": "Answer. Tensorflow pad sequence feature column. DenseFeatures.ipynb",
      "provenance": []
    }
  },
  "cells": [
    {
      "cell_type": "code",
      "metadata": {
        "id": "J8SiFdJBn0KO",
        "colab_type": "code",
        "colab": {
          "base_uri": "https://localhost:8080/",
          "height": 34
        },
        "outputId": "eee9eacc-6209-419d-8617-a8c115963729"
      },
      "source": [
        "!python -V"
      ],
      "execution_count": 135,
      "outputs": [
        {
          "output_type": "stream",
          "text": [
            "Python 3.6.9\n"
          ],
          "name": "stdout"
        }
      ]
    },
    {
      "cell_type": "code",
      "metadata": {
        "id": "8tYumxQ8nkDz",
        "colab_type": "code",
        "colab": {
          "base_uri": "https://localhost:8080/",
          "height": 34
        },
        "outputId": "bfa6b335-1706-40e7-f881-6173dfce070e"
      },
      "source": [
        "import tensorflow as tf\n",
        "print(tf.__version__)\n",
        "\n",
        "from tensorflow import feature_column\n",
        "\n",
        "from tensorflow.keras.preprocessing.text import Tokenizer\n",
        "from tensorflow.keras.preprocessing.sequence import pad_sequences\n",
        "import tensorflow.keras.utils as ku\n",
        "from tensorflow.keras.utils import plot_model\n",
        "\n",
        "import pandas as pd\n",
        "from sklearn.model_selection import train_test_split\n"
      ],
      "execution_count": 136,
      "outputs": [
        {
          "output_type": "stream",
          "text": [
            "2.2.0-rc3\n"
          ],
          "name": "stdout"
        }
      ]
    },
    {
      "cell_type": "code",
      "metadata": {
        "id": "rxTch2p2nkD2",
        "colab_type": "code",
        "colab": {
          "base_uri": "https://localhost:8080/",
          "height": 195
        },
        "outputId": "1384b6c5-c782-41d0-d89f-ea936df351c7"
      },
      "source": [
        "DATA_PATH = './TextDataset.csv'\n",
        "\n",
        "#it is just two column csv, like:\n",
        "# text;label\n",
        "# A wiki is run using wiki software;0\n",
        "# otherwise known as a wiki engine.;1\n",
        "\n",
        "dataframe = pd.read_csv(DATA_PATH, delimiter = ';')\n",
        "dataframe.head()"
      ],
      "execution_count": 137,
      "outputs": [
        {
          "output_type": "execute_result",
          "data": {
            "text/html": [
              "<div>\n",
              "<style scoped>\n",
              "    .dataframe tbody tr th:only-of-type {\n",
              "        vertical-align: middle;\n",
              "    }\n",
              "\n",
              "    .dataframe tbody tr th {\n",
              "        vertical-align: top;\n",
              "    }\n",
              "\n",
              "    .dataframe thead th {\n",
              "        text-align: right;\n",
              "    }\n",
              "</style>\n",
              "<table border=\"1\" class=\"dataframe\">\n",
              "  <thead>\n",
              "    <tr style=\"text-align: right;\">\n",
              "      <th></th>\n",
              "      <th>text</th>\n",
              "      <th>label</th>\n",
              "    </tr>\n",
              "  </thead>\n",
              "  <tbody>\n",
              "    <tr>\n",
              "      <th>0</th>\n",
              "      <td>A wiki is run using wiki software</td>\n",
              "      <td>0</td>\n",
              "    </tr>\n",
              "    <tr>\n",
              "      <th>1</th>\n",
              "      <td>otherwise known as a wiki engine.</td>\n",
              "      <td>1</td>\n",
              "    </tr>\n",
              "    <tr>\n",
              "      <th>2</th>\n",
              "      <td>A wiki engine is a type of content management ...</td>\n",
              "      <td>1</td>\n",
              "    </tr>\n",
              "    <tr>\n",
              "      <th>3</th>\n",
              "      <td>but it differs from most other such systems,in...</td>\n",
              "      <td>0</td>\n",
              "    </tr>\n",
              "    <tr>\n",
              "      <th>4</th>\n",
              "      <td>in that the content is created without any def...</td>\n",
              "      <td>0</td>\n",
              "    </tr>\n",
              "  </tbody>\n",
              "</table>\n",
              "</div>"
            ],
            "text/plain": [
              "                                                text  label\n",
              "0                  A wiki is run using wiki software      0\n",
              "1                  otherwise known as a wiki engine.      1\n",
              "2  A wiki engine is a type of content management ...      1\n",
              "3  but it differs from most other such systems,in...      0\n",
              "4  in that the content is created without any def...      0"
            ]
          },
          "metadata": {
            "tags": []
          },
          "execution_count": 137
        }
      ]
    },
    {
      "cell_type": "code",
      "metadata": {
        "id": "otEHaEDWnkD5",
        "colab_type": "code",
        "colab": {
          "base_uri": "https://localhost:8080/",
          "height": 34
        },
        "outputId": "37b1164e-2ddc-495e-d906-1a7806ac7a77"
      },
      "source": [
        "# Preprocessing before feature_clolumn includes\n",
        "# - getting the vocabulary\n",
        "# - tokenization, which means only splitting on tokens. Encoding sentences with vocablary will be done by feature_column!\n",
        "# - padding\n",
        "# - truncating\n",
        "\n",
        "# Build vacabulary\n",
        "vocab_size = 100\n",
        "oov_tok = '<OOV>'\n",
        "\n",
        "sentences = dataframe['text'].to_list()\n",
        "\n",
        "tokenizer = Tokenizer(num_words = vocab_size, oov_token=\"<OOV>\")\n",
        "\n",
        "tokenizer.fit_on_texts(sentences)\n",
        "word_index = tokenizer.word_index\n",
        "\n",
        "# if word_index shorter then default value of vocab_size we'll save actual size\n",
        "vocab_size=len(word_index)\n",
        "print(\"vocab_size = word_index = \",len(word_index))"
      ],
      "execution_count": 138,
      "outputs": [
        {
          "output_type": "stream",
          "text": [
            "vocab_size = word_index =  59\n"
          ],
          "name": "stdout"
        }
      ]
    },
    {
      "cell_type": "code",
      "metadata": {
        "id": "BBBiFqQTnkD8",
        "colab_type": "code",
        "colab": {}
      },
      "source": [
        "# Split sentensec on tokens. here token = word\n",
        "# text_to_word_sequence() has good default filter for charachters include basic punctuation, tabs, and newlines\n",
        "dataframe['text'] = dataframe['text'].apply(tf.keras.preprocessing.text.text_to_word_sequence)"
      ],
      "execution_count": 0,
      "outputs": []
    },
    {
      "cell_type": "code",
      "metadata": {
        "id": "nBRxVn1dnkD-",
        "colab_type": "code",
        "colab": {
          "base_uri": "https://localhost:8080/",
          "height": 195
        },
        "outputId": "c310f6ba-e3f5-4cb9-98c7-ae260426f1e0"
      },
      "source": [
        "dataframe.head()"
      ],
      "execution_count": 140,
      "outputs": [
        {
          "output_type": "execute_result",
          "data": {
            "text/html": [
              "<div>\n",
              "<style scoped>\n",
              "    .dataframe tbody tr th:only-of-type {\n",
              "        vertical-align: middle;\n",
              "    }\n",
              "\n",
              "    .dataframe tbody tr th {\n",
              "        vertical-align: top;\n",
              "    }\n",
              "\n",
              "    .dataframe thead th {\n",
              "        text-align: right;\n",
              "    }\n",
              "</style>\n",
              "<table border=\"1\" class=\"dataframe\">\n",
              "  <thead>\n",
              "    <tr style=\"text-align: right;\">\n",
              "      <th></th>\n",
              "      <th>text</th>\n",
              "      <th>label</th>\n",
              "    </tr>\n",
              "  </thead>\n",
              "  <tbody>\n",
              "    <tr>\n",
              "      <th>0</th>\n",
              "      <td>[a, wiki, is, run, using, wiki, software]</td>\n",
              "      <td>0</td>\n",
              "    </tr>\n",
              "    <tr>\n",
              "      <th>1</th>\n",
              "      <td>[otherwise, known, as, a, wiki, engine]</td>\n",
              "      <td>1</td>\n",
              "    </tr>\n",
              "    <tr>\n",
              "      <th>2</th>\n",
              "      <td>[a, wiki, engine, is, a, type, of, content, ma...</td>\n",
              "      <td>1</td>\n",
              "    </tr>\n",
              "    <tr>\n",
              "      <th>3</th>\n",
              "      <td>[but, it, differs, from, most, other, such, sy...</td>\n",
              "      <td>0</td>\n",
              "    </tr>\n",
              "    <tr>\n",
              "      <th>4</th>\n",
              "      <td>[in, that, the, content, is, created, without,...</td>\n",
              "      <td>0</td>\n",
              "    </tr>\n",
              "  </tbody>\n",
              "</table>\n",
              "</div>"
            ],
            "text/plain": [
              "                                                text  label\n",
              "0          [a, wiki, is, run, using, wiki, software]      0\n",
              "1            [otherwise, known, as, a, wiki, engine]      1\n",
              "2  [a, wiki, engine, is, a, type, of, content, ma...      1\n",
              "3  [but, it, differs, from, most, other, such, sy...      0\n",
              "4  [in, that, the, content, is, created, without,...      0"
            ]
          },
          "metadata": {
            "tags": []
          },
          "execution_count": 140
        }
      ]
    },
    {
      "cell_type": "code",
      "metadata": {
        "id": "KQ6L4BWinkEB",
        "colab_type": "code",
        "colab": {
          "base_uri": "https://localhost:8080/",
          "height": 195
        },
        "outputId": "23fab457-e95b-4b11-a7be-6a7f3909699e"
      },
      "source": [
        "max_length = 6\n",
        "\n",
        "# paddind and trancating setnences\n",
        "# do that directly with strings without using tokenizer.texts_to_sequences()\n",
        "# the feature_colunm will convert strings into numbers\n",
        "dataframe['text']=dataframe['text'].apply(lambda x, N=max_length: (x + N * [''])[:N])\n",
        "dataframe['text']=dataframe['text'].apply(lambda x, N=max_length: x[:N])\n",
        "dataframe.head()"
      ],
      "execution_count": 141,
      "outputs": [
        {
          "output_type": "execute_result",
          "data": {
            "text/html": [
              "<div>\n",
              "<style scoped>\n",
              "    .dataframe tbody tr th:only-of-type {\n",
              "        vertical-align: middle;\n",
              "    }\n",
              "\n",
              "    .dataframe tbody tr th {\n",
              "        vertical-align: top;\n",
              "    }\n",
              "\n",
              "    .dataframe thead th {\n",
              "        text-align: right;\n",
              "    }\n",
              "</style>\n",
              "<table border=\"1\" class=\"dataframe\">\n",
              "  <thead>\n",
              "    <tr style=\"text-align: right;\">\n",
              "      <th></th>\n",
              "      <th>text</th>\n",
              "      <th>label</th>\n",
              "    </tr>\n",
              "  </thead>\n",
              "  <tbody>\n",
              "    <tr>\n",
              "      <th>0</th>\n",
              "      <td>[a, wiki, is, run, using, wiki]</td>\n",
              "      <td>0</td>\n",
              "    </tr>\n",
              "    <tr>\n",
              "      <th>1</th>\n",
              "      <td>[otherwise, known, as, a, wiki, engine]</td>\n",
              "      <td>1</td>\n",
              "    </tr>\n",
              "    <tr>\n",
              "      <th>2</th>\n",
              "      <td>[a, wiki, engine, is, a, type]</td>\n",
              "      <td>1</td>\n",
              "    </tr>\n",
              "    <tr>\n",
              "      <th>3</th>\n",
              "      <td>[but, it, differs, from, most, other]</td>\n",
              "      <td>0</td>\n",
              "    </tr>\n",
              "    <tr>\n",
              "      <th>4</th>\n",
              "      <td>[in, that, the, content, is, created]</td>\n",
              "      <td>0</td>\n",
              "    </tr>\n",
              "  </tbody>\n",
              "</table>\n",
              "</div>"
            ],
            "text/plain": [
              "                                      text  label\n",
              "0          [a, wiki, is, run, using, wiki]      0\n",
              "1  [otherwise, known, as, a, wiki, engine]      1\n",
              "2           [a, wiki, engine, is, a, type]      1\n",
              "3    [but, it, differs, from, most, other]      0\n",
              "4    [in, that, the, content, is, created]      0"
            ]
          },
          "metadata": {
            "tags": []
          },
          "execution_count": 141
        }
      ]
    },
    {
      "cell_type": "code",
      "metadata": {
        "id": "JZIKzxiUnkED",
        "colab_type": "code",
        "colab": {}
      },
      "source": [
        "# Define method to create tf.data dataset from Pandas Dataframe\n",
        "# This worked with tf 2.0 but does not work with tf 2.2\n",
        "def df_to_dataset_tf_2_0(dataframe, label_column, shuffle=True, batch_size=32):\n",
        "    dataframe = dataframe.copy()\n",
        "    #labels = dataframe.pop(label_column)\n",
        "    labels = dataframe[label_column]\n",
        "\n",
        "    ds = tf.data.Dataset.from_tensor_slices((dict(dataframe), labels))\n",
        "    if shuffle:\n",
        "        ds = ds.shuffle(buffer_size=len(dataframe))\n",
        "    ds = ds.batch(batch_size)\n",
        "    return ds\n",
        "\n",
        "def df_to_dataset(dataframe, label_column, shuffle=True, batch_size=32):\n",
        "    dataframe = dataframe.copy()\n",
        "    labels = dataframe.pop(label_column)\n",
        "    #labels = dataframe[label_column]\n",
        "\n",
        "    ds = tf.data.Dataset.from_tensor_slices((dataframe .to_dict(orient='list'), labels))\n",
        "    if shuffle:\n",
        "        ds = ds.shuffle(buffer_size=len(dataframe))\n",
        "    ds = ds.batch(batch_size)\n",
        "    return ds\n",
        "\n",
        "\n",
        "\n",
        "   "
      ],
      "execution_count": 0,
      "outputs": []
    },
    {
      "cell_type": "code",
      "metadata": {
        "id": "TwdSC65HnkEG",
        "colab_type": "code",
        "colab": {
          "base_uri": "https://localhost:8080/",
          "height": 52
        },
        "outputId": "5bd91565-3524-4197-fb45-f0cede2f8c29"
      },
      "source": [
        "# Split dataframe into train and validation sets\n",
        "train_df, val_df = train_test_split(dataframe, test_size=0.2)\n",
        "\n",
        "print(len(train_df), 'train examples')\n",
        "print(len(val_df), 'validation examples')"
      ],
      "execution_count": 143,
      "outputs": [
        {
          "output_type": "stream",
          "text": [
            "7 train examples\n",
            "2 validation examples\n"
          ],
          "name": "stdout"
        }
      ]
    },
    {
      "cell_type": "code",
      "metadata": {
        "id": "-IGhnlDLnkEJ",
        "colab_type": "code",
        "colab": {}
      },
      "source": [
        "batch_size = 32\n",
        "ds = df_to_dataset(dataframe, 'label',shuffle=False,batch_size=batch_size)\n",
        "\n",
        "train_ds = df_to_dataset(train_df, 'label', batch_size=batch_size)\n",
        "val_ds = df_to_dataset(val_df, 'label', shuffle=False, batch_size=batch_size)"
      ],
      "execution_count": 0,
      "outputs": []
    },
    {
      "cell_type": "code",
      "metadata": {
        "id": "Puq_jicKnkEL",
        "colab_type": "code",
        "colab": {
          "base_uri": "https://localhost:8080/",
          "height": 210
        },
        "outputId": "f395d4e8-2854-4864-d3c8-4fbeb9f3092e"
      },
      "source": [
        "# and small batch for demo\n",
        "example_batch = next(iter(ds))[0]\n",
        "example_batch"
      ],
      "execution_count": 145,
      "outputs": [
        {
          "output_type": "execute_result",
          "data": {
            "text/plain": [
              "{'text': <tf.Tensor: shape=(9, 6), dtype=string, numpy=\n",
              " array([[b'a', b'wiki', b'is', b'run', b'using', b'wiki'],\n",
              "        [b'otherwise', b'known', b'as', b'a', b'wiki', b'engine'],\n",
              "        [b'a', b'wiki', b'engine', b'is', b'a', b'type'],\n",
              "        [b'but', b'it', b'differs', b'from', b'most', b'other'],\n",
              "        [b'in', b'that', b'the', b'content', b'is', b'created'],\n",
              "        [b'and', b'wikis', b'have', b'little', b'inherent', b'structure'],\n",
              "        [b'allowing', b'structure', b'to', b'emerge', b'according', b'to'],\n",
              "        [b'there', b'are', b'dozens', b'of', b'different', b'wiki'],\n",
              "        [b'both', b'standalone', b'and', b'part', b'of', b'other']],\n",
              "       dtype=object)>}"
            ]
          },
          "metadata": {
            "tags": []
          },
          "execution_count": 145
        }
      ]
    },
    {
      "cell_type": "code",
      "metadata": {
        "id": "1eKgqeoEnkEO",
        "colab_type": "code",
        "colab": {}
      },
      "source": [
        "# Helper method to print exxample outputs of for defined feature_column\n",
        "\n",
        "def demo(feature_column):\n",
        "    feature_layer = tf.keras.layers.DenseFeatures(feature_column)\n",
        "    print(feature_layer(example_batch).numpy())"
      ],
      "execution_count": 0,
      "outputs": []
    },
    {
      "cell_type": "code",
      "metadata": {
        "id": "-k1MpVOfnkEQ",
        "colab_type": "code",
        "colab": {
          "base_uri": "https://localhost:8080/",
          "height": 351
        },
        "outputId": "eab69611-35d4-4896-d282-2f1a21f265ff"
      },
      "source": [
        "# Define categorical colunm for our text feature, which is preprocessed into lists of tokens\n",
        "# Note that key name should be the same as original column name in dataframe\n",
        "text_column = feature_column.categorical_column_with_vocabulary_list(key='text', \n",
        "                                                                     vocabulary_list=list(word_index))\n",
        "\n",
        "#indicator_column produce one-hot-encoding. These lines just to compare with embedding\n",
        "#print(demo(feature_column.indicator_column(payment_description_3)))\n",
        "#print(payment_description_2,'\\n')\n",
        "\n",
        "# arguemnt dimention here is exactly the dimension of the space in which tokens will be presented during model's learning\n",
        "# see the tutorial at https://www.tensorflow.org/beta/tutorials/text/word_embeddings\n",
        "text_embedding = feature_column.embedding_column(text_column, dimension=8)\n",
        "print(demo(text_embedding))"
      ],
      "execution_count": 147,
      "outputs": [
        {
          "output_type": "stream",
          "text": [
            "[[-0.1245741  -0.06539811 -0.04908126  0.22344409 -0.08359805 -0.06485327\n",
            "   0.03772326 -0.10539886]\n",
            " [-0.14375462 -0.02242014 -0.08543857 -0.06870032 -0.12047953  0.09668547\n",
            "  -0.02564205  0.19334948]\n",
            " [-0.07704347 -0.23529786  0.00991495  0.12841998  0.00426027 -0.0811061\n",
            "   0.1292375   0.13235547]\n",
            " [-0.16376287 -0.2243027  -0.14932789  0.15451281 -0.07146135  0.13924138\n",
            "  -0.15498729 -0.01912173]\n",
            " [ 0.01838289  0.18435316 -0.04038678 -0.03248038  0.2950769   0.01126851\n",
            "  -0.20305036  0.05689808]\n",
            " [-0.08320137 -0.13970047 -0.07709267  0.19206601  0.15707016 -0.04501485\n",
            "   0.00832598 -0.08314264]\n",
            " [-0.09318731  0.03975042  0.07772637 -0.13613771 -0.0662718   0.32315478\n",
            "   0.01094771 -0.14336602]\n",
            " [ 0.12388621  0.20748846 -0.06411789  0.11938087 -0.04696181 -0.02893485\n",
            "   0.28302118  0.13568495]\n",
            " [-0.04980196  0.11031214 -0.12780045  0.23032922 -0.15213704 -0.03006172\n",
            "  -0.05110123  0.10465026]]\n",
            "None\n"
          ],
          "name": "stdout"
        }
      ]
    },
    {
      "cell_type": "code",
      "metadata": {
        "id": "UBK4E3tankET",
        "colab_type": "code",
        "colab": {}
      },
      "source": [
        "# The define the layers and model it self\n",
        "# This example uses Keras Functional API instead of Sequential just for more generallity\n",
        "\n",
        "# Define DenseFeatures layer to pass feature_columns into Keras model\n",
        "feature_layer = tf.keras.layers.DenseFeatures(text_embedding)"
      ],
      "execution_count": 0,
      "outputs": []
    },
    {
      "cell_type": "code",
      "metadata": {
        "id": "-DYTeouHnkEV",
        "colab_type": "code",
        "colab": {
          "base_uri": "https://localhost:8080/",
          "height": 34
        },
        "outputId": "1b044d83-82a1-4c46-afbd-cf534b1bcc81"
      },
      "source": [
        "# Define inputs for each feature column. See\n",
        "# см. https://github.com/tensorflow/tensorflow/issues/27416#issuecomment-502218673\n",
        "feature_layer_inputs = {}\n",
        "\n",
        "# Here we have just one column\n",
        "feature_layer_inputs['text'] = tf.keras.Input(shape=(max_length,), name='text', dtype=tf.string)\n",
        "print(feature_layer_inputs)"
      ],
      "execution_count": 149,
      "outputs": [
        {
          "output_type": "stream",
          "text": [
            "{'text': <tf.Tensor 'text_3:0' shape=(None, 6) dtype=string>}\n"
          ],
          "name": "stdout"
        }
      ]
    },
    {
      "cell_type": "code",
      "metadata": {
        "id": "hbQoz48WnkEX",
        "colab_type": "code",
        "colab": {
          "base_uri": "https://localhost:8080/",
          "height": 351
        },
        "outputId": "593f5288-3e19-4d92-f0ed-1c233470e7d3"
      },
      "source": [
        "# Define outputs of DenseFeatures layer \n",
        "# And accually use them as first layer of the model\n",
        "feature_layer_outputs = feature_layer(feature_layer_inputs)\n",
        "print(feature_layer_outputs)\n",
        "\n",
        "# Add consequences layers. See https://keras.io/getting-started/functional-api-guide/\n",
        "x = tf.keras.layers.Dense(256, activation='relu')(feature_layer_outputs)\n",
        "x = tf.keras.layers.Dropout(0.2)(x)\n",
        "\n",
        "# This example supposes binary classification, as labels are 0 or 1\n",
        "x = tf.keras.layers.Dense(1, activation='sigmoid')(x)\n",
        "\n",
        "model = tf.keras.models.Model(inputs=[v for v in feature_layer_inputs.values()], outputs=x)\n",
        "\n",
        "model.summary()\n",
        "\n",
        "# This example supposes binary classification, as labels are 0 or 1\n",
        "model.compile(optimizer='adam',\n",
        "              loss='binary_crossentropy',\n",
        "              metrics=['accuracy']\n",
        "              #run_eagerly=True\n",
        "             )"
      ],
      "execution_count": 150,
      "outputs": [
        {
          "output_type": "stream",
          "text": [
            "Tensor(\"dense_features_9/Identity:0\", shape=(None, 8), dtype=float32)\n",
            "Model: \"model_5\"\n",
            "_________________________________________________________________\n",
            "Layer (type)                 Output Shape              Param #   \n",
            "=================================================================\n",
            "text (InputLayer)            [(None, 6)]               0         \n",
            "_________________________________________________________________\n",
            "dense_features_9 (DenseFeatu (None, 8)                 472       \n",
            "_________________________________________________________________\n",
            "dense_10 (Dense)             (None, 256)               2304      \n",
            "_________________________________________________________________\n",
            "dropout_5 (Dropout)          (None, 256)               0         \n",
            "_________________________________________________________________\n",
            "dense_11 (Dense)             (None, 1)                 257       \n",
            "=================================================================\n",
            "Total params: 3,033\n",
            "Trainable params: 3,033\n",
            "Non-trainable params: 0\n",
            "_________________________________________________________________\n"
          ],
          "name": "stdout"
        }
      ]
    },
    {
      "cell_type": "code",
      "metadata": {
        "id": "WLzl4btnnkEZ",
        "colab_type": "code",
        "colab": {
          "base_uri": "https://localhost:8080/",
          "height": 193
        },
        "outputId": "2c0e76ec-793b-43ac-8c93-45e4e3991876"
      },
      "source": [
        "# Note that fit() method looking up features in train_ds and valdation_ds by name in \n",
        "# tf.keras.Input(shape=(max_length,), name='text'\n",
        "\n",
        "# This model of cause will learn nothing because of fake data.\n",
        "\n",
        "num_epochs = 5\n",
        "history = model.fit(train_ds,\n",
        "                    validation_data=val_ds,\n",
        "                    epochs=num_epochs,\n",
        "                    verbose=1\n",
        "                    )"
      ],
      "execution_count": 151,
      "outputs": [
        {
          "output_type": "stream",
          "text": [
            "Epoch 1/5\n",
            "1/1 [==============================] - 0s 136ms/step - loss: 0.6911 - accuracy: 0.5714 - val_loss: 0.6983 - val_accuracy: 0.5000\n",
            "Epoch 2/5\n",
            "1/1 [==============================] - 0s 19ms/step - loss: 0.6932 - accuracy: 0.4286 - val_loss: 0.7022 - val_accuracy: 0.0000e+00\n",
            "Epoch 3/5\n",
            "1/1 [==============================] - 0s 11ms/step - loss: 0.6884 - accuracy: 0.7143 - val_loss: 0.7062 - val_accuracy: 0.0000e+00\n",
            "Epoch 4/5\n",
            "1/1 [==============================] - 0s 12ms/step - loss: 0.6864 - accuracy: 0.7143 - val_loss: 0.7101 - val_accuracy: 0.0000e+00\n",
            "Epoch 5/5\n",
            "1/1 [==============================] - 0s 10ms/step - loss: 0.6816 - accuracy: 0.7143 - val_loss: 0.7141 - val_accuracy: 0.0000e+00\n"
          ],
          "name": "stdout"
        }
      ]
    }
  ]
}